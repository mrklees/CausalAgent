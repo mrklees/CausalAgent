{
 "cells": [
  {
   "cell_type": "markdown",
   "metadata": {},
   "source": [
    "# Toy Problems from the Book of Why\n",
    "\n",
    "We'll pull out some of the toy problems in the Book of Why to explore the limitations of DoWhy.  This should give us the clearest idea of why we would like to add to DoWhy.\n",
    "\n",
    "Features that work well:\n",
    "\n",
    "* The API works well even when you bring your own data and graph. \n",
    "\n",
    "Features that I will need to add or change:\n",
    "\n",
    "* Daft integration.  Would be great to be able to provide a daft specification to DoWhy instead of their other options. From what I can tell, it seems possible to iterate through notes and edges sufficiently to atleast directly build the networkx object from the Daft object.\n",
    "\n",
    "* Backdoor Adjustment Algorithm: It seems like the built in algorithm fails to restrict the estimand to those nodes required for the backdoor adjustment.  Further testing will be done to confirm that there are errors. "
   ]
  },
  {
   "cell_type": "markdown",
   "metadata": {},
   "source": [
    "## Example 1: Slippery Sidewalks\n",
    "\n",
    "This is a classic problem that we'll start with. It's fairly self-explanatory from the causal graph, which we shall provide in Daft below.  "
   ]
  },
  {
   "cell_type": "code",
   "execution_count": 1,
   "metadata": {},
   "outputs": [],
   "source": [
    "import pandas as pd\n",
    "import numpy as np\n",
    "import daft\n",
    "import dowhy\n",
    "from dowhy.do_why import CausalModel"
   ]
  },
  {
   "cell_type": "code",
   "execution_count": 2,
   "metadata": {},
   "outputs": [
    {
     "data": {
      "text/plain": [
       "<matplotlib.axes._axes.Axes at 0x24b08ff2e48>"
      ]
     },
     "execution_count": 2,
     "metadata": {},
     "output_type": "execute_result"
    },
    {
     "data": {
      "image/png": "[encoded data removed]",
      "text/plain": [
       "<Figure size 226.772x283.465 with 1 Axes>"
      ]
     },
     "metadata": {},
     "output_type": "display_data"
    }
   ],
   "source": [
    "pgm = daft.PGM([4, 5], origin=[0, 0], aspect=2)\n",
    "\n",
    "pgm.add_node(daft.Node(\"X5\", r\"$Slippery$\", 2, 1))\n",
    "pgm.add_node(daft.Node(\"X4\", r\"$Wet$\", 2, 2))\n",
    "pgm.add_node(daft.Node(\"X3\", r\"$Sprinkler$\", 1, 3))\n",
    "pgm.add_node(daft.Node(\"X2\", r\"$Rain$\", 3, 3))\n",
    "pgm.add_node(daft.Node(\"X1\", r\"$Season$\", 2, 4))\n",
    "\n",
    "pgm.add_edge(\"X1\", \"X2\")\n",
    "pgm.add_edge(\"X1\", \"X3\")\n",
    "pgm.add_edge(\"X2\", \"X4\")\n",
    "pgm.add_edge(\"X3\", \"X4\")\n",
    "pgm.add_edge(\"X4\", \"X5\")\n",
    "\n",
    "pgm.render()"
   ]
  },
  {
   "cell_type": "code",
   "execution_count": 3,
   "metadata": {},
   "outputs": [],
   "source": [
    "# DoWhy isn't compitable with Daft for graph specification... Which isn't great.\n",
    "# GML graph specification\n",
    "# For some reason this one is recommended.... But it's sooo much longer.\n",
    "graph_gml = \"\"\"graph[directed 1 node[id \"Season\" label \"Season\"]\n",
    "                    node[id \"Rain\" label \"Rain\"]\n",
    "                    node[id \"Sprinkler\" label \"Sprinkler\"]\n",
    "                    node[id \"Wet\" label \"Wet\"]\n",
    "                    node[id \"Slippery\" label \"Slippery\"]\n",
    "                    edge[source \"Season\" target \"Rain\"]\n",
    "                    edge[source \"Season\" target \"Sprinkler\"]\n",
    "                    edge[source \"Rain\" target \"Wet\"]\n",
    "                    edge[source \"Sprinkler\" target \"Wet\"]\n",
    "                    edge[source \"Wet\" target \"Slippery\"]]\"\"\"\n",
    "\n",
    "# Equivalent DOT graph\n",
    "graph_dot = \"digraph {Season -> Rain;Season -> Sprinkler;Rain -> Wet;Sprinkler -> Wet;Wet -> Slippery;}\""
   ]
  },
  {
   "cell_type": "code",
   "execution_count": 4,
   "metadata": {},
   "outputs": [],
   "source": [
    "# We'll make use of sigmoid to use linear models to model binary outcomes\n",
    "def sigmoid(arr):\n",
    "    return 1. / (1 + np.exp(-arr))\n",
    "\n",
    "# Generate some reasonable fake data\n",
    "nrows = 1000\n",
    "data = pd.DataFrame({'Season': np.random.choice(2, nrows)})\n",
    "data['Rain'] = round(sigmoid(0.3 * data.Season - 0.25 + np.random.normal(scale=0.1, size=nrows)))\n",
    "data['Sprinkler'] = round(sigmoid(0.2 * data.Season - 0.25 + np.random.normal(scale=0.1, size=nrows)))\n",
    "data['Wet'] = round(sigmoid((0.25 * data.Rain) + (0.25 * data.Sprinkler) - 0.25 + np.random.normal(scale=0.1, size=nrows)))\n",
    "data['Slippery'] = round(sigmoid(0.5 * data.Wet - 0.25 + np.random.normal(scale=0.1, size=nrows)))"
   ]
  },
  {
   "cell_type": "code",
   "execution_count": 5,
   "metadata": {},
   "outputs": [
    {
     "data": {
      "text/html": [
       "<div>\n",
       "<style scoped>\n",
       "    .dataframe tbody tr th:only-of-type {\n",
       "        vertical-align: middle;\n",
       "    }\n",
       "\n",
       "    .dataframe tbody tr th {\n",
       "        vertical-align: top;\n",
       "    }\n",
       "\n",
       "    .dataframe thead th {\n",
       "        text-align: right;\n",
       "    }\n",
       "</style>\n",
       "<table border=\"1\" class=\"dataframe\">\n",
       "  <thead>\n",
       "    <tr style=\"text-align: right;\">\n",
       "      <th></th>\n",
       "      <th>Season</th>\n",
       "      <th>Rain</th>\n",
       "      <th>Sprinkler</th>\n",
       "      <th>Wet</th>\n",
       "      <th>Slippery</th>\n",
       "    </tr>\n",
       "  </thead>\n",
       "  <tbody>\n",
       "    <tr>\n",
       "      <th>count</th>\n",
       "      <td>1000.00000</td>\n",
       "      <td>1000.000000</td>\n",
       "      <td>1000.000000</td>\n",
       "      <td>1000.000000</td>\n",
       "      <td>1000.000000</td>\n",
       "    </tr>\n",
       "    <tr>\n",
       "      <th>mean</th>\n",
       "      <td>0.50000</td>\n",
       "      <td>0.351000</td>\n",
       "      <td>0.166000</td>\n",
       "      <td>0.263000</td>\n",
       "      <td>0.269000</td>\n",
       "    </tr>\n",
       "    <tr>\n",
       "      <th>std</th>\n",
       "      <td>0.50025</td>\n",
       "      <td>0.477522</td>\n",
       "      <td>0.372267</td>\n",
       "      <td>0.440483</td>\n",
       "      <td>0.443662</td>\n",
       "    </tr>\n",
       "    <tr>\n",
       "      <th>min</th>\n",
       "      <td>0.00000</td>\n",
       "      <td>0.000000</td>\n",
       "      <td>0.000000</td>\n",
       "      <td>0.000000</td>\n",
       "      <td>0.000000</td>\n",
       "    </tr>\n",
       "    <tr>\n",
       "      <th>25%</th>\n",
       "      <td>0.00000</td>\n",
       "      <td>0.000000</td>\n",
       "      <td>0.000000</td>\n",
       "      <td>0.000000</td>\n",
       "      <td>0.000000</td>\n",
       "    </tr>\n",
       "    <tr>\n",
       "      <th>50%</th>\n",
       "      <td>0.50000</td>\n",
       "      <td>0.000000</td>\n",
       "      <td>0.000000</td>\n",
       "      <td>0.000000</td>\n",
       "      <td>0.000000</td>\n",
       "    </tr>\n",
       "    <tr>\n",
       "      <th>75%</th>\n",
       "      <td>1.00000</td>\n",
       "      <td>1.000000</td>\n",
       "      <td>0.000000</td>\n",
       "      <td>1.000000</td>\n",
       "      <td>1.000000</td>\n",
       "    </tr>\n",
       "    <tr>\n",
       "      <th>max</th>\n",
       "      <td>1.00000</td>\n",
       "      <td>1.000000</td>\n",
       "      <td>1.000000</td>\n",
       "      <td>1.000000</td>\n",
       "      <td>1.000000</td>\n",
       "    </tr>\n",
       "  </tbody>\n",
       "</table>\n",
       "</div>"
      ],
      "text/plain": [
       "           Season         Rain    Sprinkler          Wet     Slippery\n",
       "count  1000.00000  1000.000000  1000.000000  1000.000000  1000.000000\n",
       "mean      0.50000     0.351000     0.166000     0.263000     0.269000\n",
       "std       0.50025     0.477522     0.372267     0.440483     0.443662\n",
       "min       0.00000     0.000000     0.000000     0.000000     0.000000\n",
       "25%       0.00000     0.000000     0.000000     0.000000     0.000000\n",
       "50%       0.50000     0.000000     0.000000     0.000000     0.000000\n",
       "75%       1.00000     1.000000     0.000000     1.000000     1.000000\n",
       "max       1.00000     1.000000     1.000000     1.000000     1.000000"
      ]
     },
     "execution_count": 5,
     "metadata": {},
     "output_type": "execute_result"
    }
   ],
   "source": [
    "data.describe()"
   ]
  },
  {
   "cell_type": "code",
   "execution_count": 6,
   "metadata": {},
   "outputs": [
    {
     "name": "stdout",
     "output_type": "stream",
     "text": [
      "['Season', 'Rain', 'Sprinkler']\n",
      "yes\n",
      "{'observed': 'yes'}\n",
      "yes\n",
      "{'observed': 'yes'}\n",
      "yes\n",
      "{'observed': 'yes'}\n",
      "Model to find the causal effect of treatment Wet on outcome Slippery\n"
     ]
    }
   ],
   "source": [
    "model = CausalModel(\n",
    "            data=data,\n",
    "            treatment='Wet',\n",
    "            outcome='Slippery',\n",
    "            graph=graph_gml)"
   ]
  },
  {
   "cell_type": "code",
   "execution_count": 9,
   "metadata": {},
   "outputs": [
    {
     "name": "stdout",
     "output_type": "stream",
     "text": [
      "Warning: Pygraphviz cannot be loaded. Check that graphviz and pygraphviz are installed.\n",
      "Using Matplotlib for plotting\n"
     ]
    },
    {
     "data": {
      "image/png": "[encoded data removed]",
      "text/plain": [
       "<Figure size 432x288 with 1 Axes>"
      ]
     },
     "metadata": {
      "needs_background": "light"
     },
     "output_type": "display_data"
    }
   ],
   "source": [
    "# Their graph visualizer isn't great without graphviz\n",
    "model.view_model()"
   ]
  },
  {
   "cell_type": "code",
   "execution_count": 12,
   "metadata": {},
   "outputs": [
    {
     "name": "stderr",
     "output_type": "stream",
     "text": [
      "INFO:dowhy.causal_identifier:Common causes of treatment and outcome:{'Season', 'Rain', 'Sprinkler', 'U'}\n"
     ]
    },
    {
     "name": "stdout",
     "output_type": "stream",
     "text": [
      "{'observed': 'yes'}\n",
      "{'observed': 'yes'}\n",
      "{'observed': 'yes'}\n",
      "{'label': 'Unobserved Confounders', 'observed': 'no'}\n",
      "There are unobserved common causes. Causal effect cannot be identified.\n",
      "WARN: Do you want to continue by ignoring these unobserved confounders? [y/n] y\n"
     ]
    },
    {
     "name": "stderr",
     "output_type": "stream",
     "text": [
      "INFO:dowhy.causal_identifier:Instrumental variables for treatment and outcome:['Rain', 'Sprinkler']\n"
     ]
    },
    {
     "name": "stdout",
     "output_type": "stream",
     "text": [
      "Estimand type: ate\n",
      "### Estimand : 1\n",
      "Estimand name: backdoor\n",
      "Estimand expression:\n",
      " d                                               \n",
      "────(Expectation(Slippery|Season,Rain,Sprinkler))\n",
      "dWet                                             \n",
      "Estimand assumption 1, Unconfoundedness: If U→Wet and U→Slippery then P(Slippery|Wet,Season,Rain,Sprinkler,U) = P(Slippery|Wet,Season,Rain,Sprinkler)\n",
      "### Estimand : 2\n",
      "Estimand name: iv\n",
      "Estimand expression:\n",
      "Expectation(Derivative(Slippery, Rain)/Derivative(Wet, Rain))\n",
      "Estimand assumption 1, As-if-random: If U→→Slippery then ¬(U →→Rain,Sprinkler)\n",
      "Estimand assumption 2, Exclusion: If we remove {Rain,Sprinkler}→Wet, then ¬(Rain,Sprinkler→Slippery)\n",
      "\n"
     ]
    }
   ],
   "source": [
    "identified_estimand = model.identify_effect()\n",
    "print(identified_estimand)"
   ]
  },
  {
   "cell_type": "code",
   "execution_count": 24,
   "metadata": {},
   "outputs": [
    {
     "name": "stderr",
     "output_type": "stream",
     "text": [
      "INFO:dowhy.causal_estimator:INFO: Using Linear Regression Estimator\n",
      "INFO:dowhy.causal_estimator:b: Slippery~Wet+Season+Rain+Sprinkler\n"
     ]
    },
    {
     "name": "stdout",
     "output_type": "stream",
     "text": [
      "LinearRegressionEstimator\n",
      "*** Causal Estimate ***\n",
      "\n",
      "## Target estimand\n",
      "Estimand type: ate\n",
      "### Estimand : 1\n",
      "Estimand name: backdoor\n",
      "Estimand expression:\n",
      " d                                               \n",
      "────(Expectation(Slippery|Season,Rain,Sprinkler))\n",
      "dWet                                             \n",
      "Estimand assumption 1, Unconfoundedness: If U→Wet and U→Slippery then P(Slippery|Wet,Season,Rain,Sprinkler,U) = P(Slippery|Wet,Season,Rain,Sprinkler)\n",
      "### Estimand : 2\n",
      "Estimand name: iv\n",
      "Estimand expression:\n",
      "Expectation(Derivative(Slippery, Rain)/Derivative(Wet, Rain))\n",
      "Estimand assumption 1, As-if-random: If U→→Slippery then ¬(U →→Rain,Sprinkler)\n",
      "Estimand assumption 2, Exclusion: If we remove {Rain,Sprinkler}→Wet, then ¬(Rain,Sprinkler→Slippery)\n",
      "\n",
      "## Realized estimand\n",
      "b: Slippery~Wet+Season+Rain+Sprinkler\n",
      "## Estimate\n",
      "Value: 0.992489520260829\n",
      "\n",
      "## Statistical Significance\n",
      "p-value: 1.0\n",
      "\n",
      "Causal Estimate is 0.992489520260829\n"
     ]
    }
   ],
   "source": [
    "lr_estimate = model.estimate_effect(identified_estimand,\n",
    "        method_name=\"backdoor.linear_regression\",\n",
    "        test_significance=True)\n",
    "print(causal_estimate)\n",
    "print(\"Causal Estimate is \" + str(causal_estimate.value))"
   ]
  },
  {
   "cell_type": "code",
   "execution_count": 25,
   "metadata": {},
   "outputs": [
    {
     "name": "stderr",
     "output_type": "stream",
     "text": [
      "INFO:dowhy.causal_estimator:INFO: Using Propensity Score Stratification Estimator\n",
      "INFO:dowhy.causal_estimator:b: Slippery~Wet+Season+Rain+Sprinkler\n"
     ]
    },
    {
     "name": "stdout",
     "output_type": "stream",
     "text": [
      "PropensityScoreStratificationEstimator\n",
      "*** Causal Estimate ***\n",
      "\n",
      "## Target estimand\n",
      "Estimand type: ate\n",
      "### Estimand : 1\n",
      "Estimand name: backdoor\n",
      "Estimand expression:\n",
      " d                                               \n",
      "────(Expectation(Slippery|Season,Rain,Sprinkler))\n",
      "dWet                                             \n",
      "Estimand assumption 1, Unconfoundedness: If U→Wet and U→Slippery then P(Slippery|Wet,Season,Rain,Sprinkler,U) = P(Slippery|Wet,Season,Rain,Sprinkler)\n",
      "### Estimand : 2\n",
      "Estimand name: iv\n",
      "Estimand expression:\n",
      "Expectation(Derivative(Slippery, Rain)/Derivative(Wet, Rain))\n",
      "Estimand assumption 1, As-if-random: If U→→Slippery then ¬(U →→Rain,Sprinkler)\n",
      "Estimand assumption 2, Exclusion: If we remove {Rain,Sprinkler}→Wet, then ¬(Rain,Sprinkler→Slippery)\n",
      "\n",
      "## Realized estimand\n",
      "b: Slippery~Wet+Season+Rain+Sprinkler\n",
      "## Estimate\n",
      "Value: 0.992489520260829\n",
      "\n",
      "## Statistical Significance\n",
      "p-value: 1.0\n",
      "\n",
      "Causal Estimate is 0.992489520260829\n"
     ]
    }
   ],
   "source": [
    "psm_estimate = model.estimate_effect(identified_estimand,\n",
    "        method_name=\"backdoor.propensity_score_stratification\",\n",
    "        test_significance=True)\n",
    "print(causal_estimate)\n",
    "print(\"Causal Estimate is \" + str(causal_estimate.value))"
   ]
  },
  {
   "cell_type": "markdown",
   "metadata": {},
   "source": [
    "Observation.  DoWhy has realized the estimand $Slippery \\sim Wet + Season + Rain + Sprinkler$.  I really wonder if this is necessary though.  Per our graph, there are no backdoor paths from Wet to Slippery.  Therefore, as long as our graph is correct (particularly with regards to U), then I see no reason to include season, rain, or sprinkler in the regression. We should literally be able to create a simple linear regression from Wet to Slippery. "
   ]
  },
  {
   "cell_type": "code",
   "execution_count": 56,
   "metadata": {},
   "outputs": [
    {
     "name": "stdout",
     "output_type": "stream",
     "text": [
      "                            OLS Regression Results                            \n",
      "==============================================================================\n",
      "Dep. Variable:               Slippery   R-squared:                       0.956\n",
      "Model:                            OLS   Adj. R-squared:                  0.955\n",
      "Method:                 Least Squares   F-statistic:                 2.146e+04\n",
      "Date:                Wed, 13 Mar 2019   Prob (F-statistic):               0.00\n",
      "Time:                        16:42:21   Log-Likelihood:                 793.91\n",
      "No. Observations:                1000   AIC:                            -1586.\n",
      "Df Residuals:                     999   BIC:                            -1581.\n",
      "Df Model:                           1                                         \n",
      "Covariance Type:            nonrobust                                         \n",
      "==============================================================================\n",
      "                 coef    std err          t      P>|t|      [0.025      0.975]\n",
      "------------------------------------------------------------------------------\n",
      "Wet            0.9886      0.007    146.490      0.000       0.975       1.002\n",
      "==============================================================================\n",
      "Omnibus:                     1056.973   Durbin-Watson:                   1.991\n",
      "Prob(Omnibus):                  0.000   Jarque-Bera (JB):           266596.030\n",
      "Skew:                           4.461   Prob(JB):                         0.00\n",
      "Kurtosis:                      82.490   Cond. No.                         1.00\n",
      "==============================================================================\n",
      "\n",
      "Warnings:\n",
      "[1] Standard Errors assume that the covariance matrix of the errors is correctly specified.\n"
     ]
    }
   ],
   "source": [
    "import statsmodels.api as sm\n",
    "\n",
    "lm = sm.OLS(endog=data.Slippery, exog=data.Wet)\n",
    "res = lm.fit()\n",
    "print(res.summary())"
   ]
  },
  {
   "cell_type": "markdown",
   "metadata": {},
   "source": [
    "The refutations have little effect on the estimated causal effect, but then the causal effect isn't really confounded."
   ]
  },
  {
   "cell_type": "code",
   "execution_count": 34,
   "metadata": {},
   "outputs": [
    {
     "name": "stderr",
     "output_type": "stream",
     "text": [
      "INFO:dowhy.causal_estimator:INFO: Using Linear Regression Estimator\n",
      "INFO:dowhy.causal_estimator:b: Slippery~Wet+Season+Rain+Sprinkler+w_random\n"
     ]
    },
    {
     "name": "stdout",
     "output_type": "stream",
     "text": [
      "Refute: Add a Random Common Cause\n",
      "Estimated effect:(0.9794942071876567,)\n",
      "New effect:(0.9794145760783853,)\n",
      "\n"
     ]
    }
   ],
   "source": [
    "res_random=model.refute_estimate(identified_estimand, lr_estimate, method_name=\"random_common_cause\")\n",
    "print(res_random)"
   ]
  },
  {
   "cell_type": "code",
   "execution_count": 35,
   "metadata": {},
   "outputs": [
    {
     "name": "stderr",
     "output_type": "stream",
     "text": [
      "INFO:dowhy.causal_estimator:INFO: Using Linear Regression Estimator\n",
      "INFO:dowhy.causal_estimator:b: Slippery~placebo+Season+Rain+Sprinkler\n"
     ]
    },
    {
     "name": "stdout",
     "output_type": "stream",
     "text": [
      "Refute: Add a Random Common Cause\n",
      "Estimated effect:(0.9794942071876567,)\n",
      "New effect:(0.9794145760783853,)\n",
      "\n"
     ]
    }
   ],
   "source": [
    "res_placebo=model.refute_estimate(identified_estimand, lr_estimate, method_name=\"placebo_treatment_refuter\", placebo_type=\"permute\")\n",
    "print(res_random)"
   ]
  },
  {
   "cell_type": "code",
   "execution_count": 36,
   "metadata": {},
   "outputs": [
    {
     "name": "stderr",
     "output_type": "stream",
     "text": [
      "INFO:dowhy.causal_estimator:INFO: Using Linear Regression Estimator\n",
      "INFO:dowhy.causal_estimator:b: Slippery~Wet+Season+Rain+Sprinkler\n"
     ]
    },
    {
     "name": "stdout",
     "output_type": "stream",
     "text": [
      "Refute: Use a subset of data\n",
      "Estimated effect:(0.9794942071876567,)\n",
      "New effect:(0.9779731627874463,)\n",
      "\n"
     ]
    }
   ],
   "source": [
    "res_subset=model.refute_estimate(identified_estimand, lr_estimate,\n",
    "        method_name=\"data_subset_refuter\", subset_fraction=0.9)\n",
    "print(res_subset)\n"
   ]
  },
  {
   "cell_type": "markdown",
   "metadata": {},
   "source": [
    "Seeing the interesting choices DoWhy made for Wet, I wanted to test a slight modification.  What about the effect of sprinkler on slippery?  In this case there will be backdoor path: $Sprinkler \\leftarrow Season \\rightarrow Rain \\rightarrow Wet \\rightarrow Slippery$, which we'll hope that DoWhy will appropriatly identify."
   ]
  },
  {
   "cell_type": "code",
   "execution_count": 40,
   "metadata": {},
   "outputs": [
    {
     "name": "stdout",
     "output_type": "stream",
     "text": [
      "['Season']\n",
      "yes\n",
      "{'observed': 'yes'}\n",
      "Model to find the causal effect of treatment Sprinkler on outcome Slippery\n"
     ]
    }
   ],
   "source": [
    "newmodel = CausalModel(\n",
    "            data=data,\n",
    "            treatment='Sprinkler',\n",
    "            outcome='Slippery',\n",
    "            graph=graph_gml)"
   ]
  },
  {
   "cell_type": "code",
   "execution_count": 41,
   "metadata": {},
   "outputs": [
    {
     "name": "stderr",
     "output_type": "stream",
     "text": [
      "INFO:dowhy.causal_identifier:Common causes of treatment and outcome:{'Season', 'U'}\n"
     ]
    },
    {
     "name": "stdout",
     "output_type": "stream",
     "text": [
      "{'observed': 'yes'}\n",
      "{'label': 'Unobserved Confounders', 'observed': 'no'}\n",
      "There are unobserved common causes. Causal effect cannot be identified.\n",
      "WARN: Do you want to continue by ignoring these unobserved confounders? [y/n] y\n"
     ]
    },
    {
     "name": "stderr",
     "output_type": "stream",
     "text": [
      "INFO:dowhy.causal_identifier:Instrumental variables for treatment and outcome:[]\n"
     ]
    },
    {
     "name": "stdout",
     "output_type": "stream",
     "text": [
      "Estimand type: ate\n",
      "### Estimand : 1\n",
      "Estimand name: backdoor\n",
      "Estimand expression:\n",
      "    d                                   \n",
      "──────────(Expectation(Slippery|Season))\n",
      "dSprinkler                              \n",
      "Estimand assumption 1, Unconfoundedness: If U→Sprinkler and U→Slippery then P(Slippery|Sprinkler,Season,U) = P(Slippery|Sprinkler,Season)\n",
      "### Estimand : 2\n",
      "Estimand name: iv\n",
      "No such variable found!\n",
      "\n"
     ]
    }
   ],
   "source": [
    "identified_estimand = newmodel.identify_effect()\n",
    "print(identified_estimand)"
   ]
  },
  {
   "cell_type": "code",
   "execution_count": 42,
   "metadata": {},
   "outputs": [
    {
     "name": "stderr",
     "output_type": "stream",
     "text": [
      "INFO:dowhy.causal_estimator:INFO: Using Linear Regression Estimator\n",
      "INFO:dowhy.causal_estimator:b: Slippery~Sprinkler+Season\n"
     ]
    },
    {
     "name": "stdout",
     "output_type": "stream",
     "text": [
      "LinearRegressionEstimator\n",
      "*** Causal Estimate ***\n",
      "\n",
      "## Target estimand\n",
      "Estimand type: ate\n",
      "### Estimand : 1\n",
      "Estimand name: backdoor\n",
      "Estimand expression:\n",
      "    d                                   \n",
      "──────────(Expectation(Slippery|Season))\n",
      "dSprinkler                              \n",
      "Estimand assumption 1, Unconfoundedness: If U→Sprinkler and U→Slippery then P(Slippery|Sprinkler,Season,U) = P(Slippery|Sprinkler,Season)\n",
      "### Estimand : 2\n",
      "Estimand name: iv\n",
      "No such variable found!\n",
      "\n",
      "## Realized estimand\n",
      "b: Slippery~Sprinkler+Season\n",
      "## Estimate\n",
      "Value: 0.3944028924887448\n",
      "\n",
      "## Statistical Significance\n",
      "p-value: <0.001\n",
      "\n",
      "Causal Estimate is 0.3944028924887448\n"
     ]
    }
   ],
   "source": [
    "lr_estimate = newmodel.estimate_effect(identified_estimand,\n",
    "        method_name=\"backdoor.linear_regression\",\n",
    "        test_significance=True)\n",
    "print(lr_estimate)\n",
    "print(\"Causal Estimate is \" + str(lr_estimate.value))"
   ]
  },
  {
   "cell_type": "code",
   "execution_count": 55,
   "metadata": {},
   "outputs": [
    {
     "name": "stdout",
     "output_type": "stream",
     "text": [
      "                            OLS Regression Results                            \n",
      "==============================================================================\n",
      "Dep. Variable:               Slippery   R-squared:                       0.564\n",
      "Model:                            OLS   Adj. R-squared:                  0.563\n",
      "Method:                 Least Squares   F-statistic:                     645.9\n",
      "Date:                Wed, 13 Mar 2019   Prob (F-statistic):          1.05e-180\n",
      "Time:                        16:41:59   Log-Likelihood:                -347.17\n",
      "No. Observations:                1000   AIC:                             698.3\n",
      "Df Residuals:                     998   BIC:                             708.2\n",
      "Df Model:                           2                                         \n",
      "Covariance Type:            nonrobust                                         \n",
      "==============================================================================\n",
      "                 coef    std err          t      P>|t|      [0.025      0.975]\n",
      "------------------------------------------------------------------------------\n",
      "Season         0.3893      0.019     20.940      0.000       0.353       0.426\n",
      "Sprinkler      0.3949      0.032     12.239      0.000       0.332       0.458\n",
      "==============================================================================\n",
      "Omnibus:                       10.111   Durbin-Watson:                   1.949\n",
      "Prob(Omnibus):                  0.006   Jarque-Bera (JB):               10.567\n",
      "Skew:                           0.202   Prob(JB):                      0.00508\n",
      "Kurtosis:                       3.301   Cond. No.                         2.38\n",
      "==============================================================================\n",
      "\n",
      "Warnings:\n",
      "[1] Standard Errors assume that the covariance matrix of the errors is correctly specified.\n"
     ]
    }
   ],
   "source": [
    "# We can confirm this estimate against what we could produce without DoWhy\n",
    "lm = sm.OLS(endog=data['Slippery'], exog=data[['Season', 'Sprinkler']])\n",
    "res = lm.fit()\n",
    "print(res.summary())"
   ]
  },
  {
   "cell_type": "code",
   "execution_count": null,
   "metadata": {},
   "outputs": [],
   "source": []
  }
 ],
 "metadata": {
  "kernelspec": {
   "display_name": "Python 3",
   "language": "python",
   "name": "python3"
  },
  "language_info": {
   "codemirror_mode": {
    "name": "ipython",
    "version": 3
   },
   "file_extension": ".py",
   "mimetype": "text/x-python",
   "name": "python",
   "nbconvert_exporter": "python",
   "pygments_lexer": "ipython3",
   "version": "3.6.7"
  }
 },
 "nbformat": 4,
 "nbformat_minor": 2
}
